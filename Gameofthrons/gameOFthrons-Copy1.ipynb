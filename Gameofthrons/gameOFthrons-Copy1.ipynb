{
 "cells": [
  {
   "cell_type": "code",
   "execution_count": 1,
   "metadata": {},
   "outputs": [],
   "source": [
    "import csv\n",
    "edges = []\n",
    "firstline = True\n",
    "with open('stormofswords.csv', 'r') as f:\n",
    "    for row in csv.reader(f.read().splitlines()):\n",
    "        if firstline == True:\n",
    "            firstline = False\n",
    "            continue\n",
    "        u, v, weight = [i for i in row]\n",
    "        edges.append((u, v, int(weight)))"
   ]
  },
  {
   "cell_type": "code",
   "execution_count": 2,
   "metadata": {},
   "outputs": [],
   "source": [
    "from igraph import Graph as IGraph\n",
    "\n",
    "g = IGraph.TupleList(edges, directed=True, vertex_name_attr='name', edge_attrs=None, weights=True)"
   ]
  },
  {
   "cell_type": "code",
   "execution_count": 3,
   "metadata": {},
   "outputs": [
    {
     "data": {
      "text/plain": [
       "True"
      ]
     },
     "execution_count": 3,
     "metadata": {},
     "output_type": "execute_result"
    }
   ],
   "source": [
    "names = g.vs[\"name\"]\n",
    "weights = g.es[\"weight\"]\n",
    "g.is_weighted()"
   ]
  },
  {
   "cell_type": "code",
   "execution_count": 4,
   "metadata": {
    "scrolled": true
   },
   "outputs": [
    {
     "name": "stdout",
     "output_type": "stream",
     "text": [
      "36\n",
      "---------------------\n",
      "Jaime 24\n",
      "Robert 18\n",
      "Tyrion 36\n",
      "Tywin 22\n",
      "Arya 19\n",
      "Cersei 20\n",
      "Joffrey 18\n",
      "Jon 26\n",
      "Catelyn 18\n",
      "Robb 25\n",
      "Sansa 26\n"
     ]
    }
   ],
   "source": [
    "\n",
    "print(g.maxdegree())\n",
    "print(\"---------------------\")\n",
    "for p in g.vs:\n",
    "    if p.degree() > 15:\n",
    "        print(p[\"name\"],p.degree())"
   ]
  },
  {
   "cell_type": "code",
   "execution_count": 5,
   "metadata": {},
   "outputs": [
    {
     "name": "stdout",
     "output_type": "stream",
     "text": [
      "Community  0 :  ['Aemon', 'Grenn', 'Samwell', 'Alliser', 'Mance', 'Jon', 'Craster', 'Karl', 'Eddison', 'Gilly', 'Janos', 'Bowen', 'Dalla', 'Orell', 'Qhorin', 'Rattleshirt', 'Styr', 'Val', 'Ygritte']\n",
      "Community  1 :  ['Aerys', 'Jaime', 'Robert', 'Tyrion', 'Tywin', 'Amory', 'Oberyn', 'Cersei', 'Gregor', 'Joffrey', 'Balon', 'Loras', 'Brienne', 'Bronn', 'Podrick', 'Lysa', 'Petyr', 'Sansa', 'Elia', 'Ilyn', 'Meryn', 'Pycelle', 'Shae', 'Varys', 'Qyburn', 'Renly', 'Tommen', 'Kevan', 'Margaery', 'Myrcella', 'Jon Arryn', 'Olenna', 'Marillion', 'Robert Arryn', 'Ellaria', 'Mace', 'Chataya', 'Doran', 'Walton']\n",
      "Community  2 :  ['Arya', 'Anguy', 'Beric', 'Gendry', 'Sandor', 'Thoros', 'Eddard']\n",
      "Community  3 :  ['Bran', 'Rickon', 'Hodor', 'Jojen', 'Luwin', 'Meera', 'Nan', 'Theon']\n",
      "Community  4 :  ['Brynden', 'Roose', 'Lothar', 'Walder', 'Catelyn', 'Edmure', 'Hoster', 'Jeyne', 'Robb', 'Roslin', 'Rickard', 'Ramsay']\n",
      "Community  5 :  ['Belwas', 'Barristan', 'Illyrio', 'Daario', 'Drogo', 'Irri', 'Daenerys', 'Aegon', 'Jorah', 'Kraznys', 'Missandei', 'Rakharo', 'Rhaegar', 'Viserys', 'Worm']\n",
      "Community  6 :  ['Stannis', 'Davos', 'Cressen', 'Salladhor', 'Melisandre', 'Shireen']\n",
      "Community  7 :  ['Lancel']\n"
     ]
    }
   ],
   "source": [
    "clusters = IGraph.community_walktrap(g, weights=\"weight\").as_clustering()\n",
    "# community_walktrap: Community detection algorithm of Latapy & Pons, based on random walks.\n",
    "# Pascal Pons, Matthieu Latapy: Computing communities in large networks using random walks, \n",
    "# http://arxiv.org/abs/physics/0512106.\n",
    "nodes = [{\"name\": node[\"name\"]} for node in g.vs]\n",
    "community = {}\n",
    "for node in nodes:\n",
    "    idx = g.vs.find(name=node[\"name\"]).index\n",
    "    node[\"community\"] = clusters.membership[idx]\n",
    "    if node[\"community\"] not in community:\n",
    "        community[node[\"community\"]] = [node[\"name\"]]\n",
    "    else:\n",
    "        community[node[\"community\"]].append(node[\"name\"])\n",
    "for c,l in community.items():\n",
    "    print(\"Community \", c, \": \", l)"
   ]
  }
 ],
 "metadata": {
  "kernelspec": {
   "display_name": "Python 3",
   "language": "python",
   "name": "python3"
  },
  "language_info": {
   "codemirror_mode": {
    "name": "ipython",
    "version": 3
   },
   "file_extension": ".py",
   "mimetype": "text/x-python",
   "name": "python",
   "nbconvert_exporter": "python",
   "pygments_lexer": "ipython3",
   "version": "3.7.2"
  }
 },
 "nbformat": 4,
 "nbformat_minor": 2
}
